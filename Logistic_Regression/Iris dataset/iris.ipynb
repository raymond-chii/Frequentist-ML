{
 "cells": [
  {
   "cell_type": "code",
   "execution_count": 4,
   "metadata": {},
   "outputs": [],
   "source": [
    "import numpy as np\n",
    "import pandas as pd\n",
    "\n",
    "class LogisticRegression:\n",
    "    def __init__(self, learning_rate=0.01, num_classes=3):\n",
    "        self.learning_rate = learning_rate\n",
    "        self.num_classes = num_classes\n",
    "        self.theta = None\n",
    "\n",
    "    def initialize(self, X):\n",
    "        n_features = X.shape[1]\n",
    "        self.theta = np.zeros((self.num_classes, n_features + 1))\n",
    "\n",
    "    def softmax(self, z):\n",
    "        if z.ndim == 1:\n",
    "            e_z = np.exp(z - np.max(z))\n",
    "            return e_z / np.sum(e_z)\n",
    "        else:\n",
    "            e_z = np.exp(z - np.max(z, axis=1, keepdims=True))\n",
    "            return e_z / np.sum(e_z, axis=1, keepdims=True)\n",
    "\n",
    "    def fit(self, X, y):\n",
    "        if isinstance(X, pd.DataFrame):\n",
    "            X = X.values\n",
    "        if isinstance(y, pd.Series):\n",
    "            y = y.values\n",
    "\n",
    "        self.initialize(X)\n",
    "        m, n = X.shape\n",
    "        X_with_bias = np.column_stack([np.ones(m), X])\n",
    "\n",
    "        y_onehot = np.eye(self.num_classes)[y]\n",
    "\n",
    "        for i in range(m):\n",
    "            x_i = X_with_bias[i]\n",
    "            y_i = y_onehot[i]\n",
    "            \n",
    "            # Calculate gradient (equation 4.109)\n",
    "            h = self.softmax(np.dot(self.theta, x_i))\n",
    "            gradient = np.outer((h - y_i), x_i)\n",
    "            \n",
    "            self.theta -= self.learning_rate * gradient\n",
    "\n",
    "    def predict(self, X):\n",
    "        if isinstance(X, pd.DataFrame):\n",
    "            X = X.values\n",
    "        X_with_bias = np.column_stack([np.ones(X.shape[0]), X])\n",
    "        probabilities = self.softmax(np.dot(self.theta, X_with_bias.T).T)\n",
    "        return np.argmax(probabilities, axis=1)"
   ]
  },
  {
   "cell_type": "code",
   "execution_count": 13,
   "metadata": {},
   "outputs": [
    {
     "name": "stdout",
     "output_type": "stream",
     "text": [
      "4\n",
      "Multinomial Logistic Regression Accuracy: 0.7000\n"
     ]
    }
   ],
   "source": [
    "from sklearn.datasets import load_iris\n",
    "from sklearn.model_selection import train_test_split\n",
    "from sklearn.metrics import accuracy_score\n",
    "\n",
    "# Load the Iris dataset\n",
    "iris = load_iris()\n",
    "X = iris.data\n",
    "y = iris.target\n",
    "print(X.shape)\n",
    "# Split the data\n",
    "X_train, X_test, y_train, y_test = train_test_split(X, y, test_size=0.2, random_state=42)\n",
    "\n",
    "# Train and evaluate the multinomial logistic regression model\n",
    "model = LogisticRegression(learning_rate=0.01, num_classes=3)\n",
    "model.fit(X_train, y_train)\n",
    "\n",
    "y_pred = model.predict(X_test)\n",
    "accuracy = accuracy_score(y_test, y_pred)\n",
    "print(f\"Multinomial Logistic Regression Accuracy: {accuracy:.4f}\")"
   ]
  }
 ],
 "metadata": {
  "kernelspec": {
   "display_name": "3.11.0",
   "language": "python",
   "name": "python3"
  },
  "language_info": {
   "codemirror_mode": {
    "name": "ipython",
    "version": 3
   },
   "file_extension": ".py",
   "mimetype": "text/x-python",
   "name": "python",
   "nbconvert_exporter": "python",
   "pygments_lexer": "ipython3",
   "version": "3.11.0"
  }
 },
 "nbformat": 4,
 "nbformat_minor": 2
}
